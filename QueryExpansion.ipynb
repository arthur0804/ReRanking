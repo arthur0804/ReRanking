{
 "cells": [
  {
   "cell_type": "code",
   "execution_count": 21,
   "metadata": {},
   "outputs": [],
   "source": [
    "import xml.etree.ElementTree as ET\n",
    "from SPARQLWrapper import SPARQLWrapper, JSON"
   ]
  },
  {
   "cell_type": "code",
   "execution_count": 22,
   "metadata": {
    "scrolled": true
   },
   "outputs": [],
   "source": [
    "tree = ET.parse('/Users/arthur_0804/Desktop/Thesis/RelevantDocs/topics2017.xml')"
   ]
  },
  {
   "cell_type": "code",
   "execution_count": 23,
   "metadata": {},
   "outputs": [],
   "source": [
    "root = tree.getroot()"
   ]
  },
  {
   "cell_type": "code",
   "execution_count": 24,
   "metadata": {},
   "outputs": [],
   "source": [
    "disease_list = []\n",
    "for i in range(0,30):\n",
    "        disease_list.append(root[i][0].text)"
   ]
  },
  {
   "cell_type": "code",
   "execution_count": 25,
   "metadata": {},
   "outputs": [
    {
     "name": "stdout",
     "output_type": "stream",
     "text": [
      "Liposarcoma\n",
      "Colon cancer\n",
      "Meningioma\n",
      "Breast cancer\n",
      "Melanoma\n",
      "Melanoma\n",
      "Lung cancer\n",
      "Lung cancer\n",
      "Gastrointestinal stromal tumor\n",
      "Lung adenocarcinoma\n",
      "Gastric cancer\n",
      "Colon cancer\n",
      "Cholangiocarcinoma\n",
      "Cholangiocarcinoma\n",
      "Cervical cancer\n",
      "Pancreatic cancer\n",
      "Prostate cancer\n",
      "Pancreatic cancer\n",
      "Colorectal cancer\n",
      "Liposarcoma\n",
      "Lung adenocarcinoma\n",
      "Lung cancer\n",
      "Breast cancer\n",
      "Lung cancer\n",
      "Lung adenocarcinoma\n",
      "Breast cancer\n",
      "Pancreatic adenocarcinoma\n",
      "Pancreatic ductal adenocarcinoma\n",
      "Ampullary carcinoma\n",
      "Pancreatic adenocarcinoma\n"
     ]
    }
   ],
   "source": [
    "for x in disease_list:\n",
    "    print(x)"
   ]
  },
  {
   "cell_type": "code",
   "execution_count": 26,
   "metadata": {},
   "outputs": [],
   "source": [
    "gene_list = []\n",
    "for i in range(0,30):\n",
    "    gene_list.append(root[i][1].text)"
   ]
  },
  {
   "cell_type": "code",
   "execution_count": 27,
   "metadata": {},
   "outputs": [
    {
     "name": "stdout",
     "output_type": "stream",
     "text": [
      "CDK4 Amplification\n",
      "KRAS (G13D), BRAF (V600E)\n",
      "NF2 (K322), AKT1(E17K)\n",
      "FGFR1 Amplification, PTEN (Q171)\n",
      "BRAF (V600E), CDKN2A Deletion\n",
      "NRAS (Q61K)\n",
      "EGFR (L858R)\n",
      "EML4-ALK Fusion transcript\n",
      "KIT Exon 9 (A502_Y503dup)\n",
      "KRAS (G12C)\n",
      "PIK3CA (E545K)\n",
      "BRAF (V600E)\n",
      "BRCA2\n",
      "IDH1 (R132H)\n",
      "STK11\n",
      "CDKN2A\n",
      "PTEN Inactivating\n",
      "CDK6 Amplification\n",
      "FGFR1 Amplification\n",
      "MDM2 Amplification\n",
      "ALK Fusion\n",
      "ERBB2 Amplification\n",
      "PTEN Loss\n",
      "NTRK1\n",
      "MET Amplification\n",
      "NRAS Amplification\n",
      "KRAS, TP53\n",
      "ERBB3\n",
      "KRAS\n",
      "RB1, TP53, KRAS\n"
     ]
    }
   ],
   "source": [
    "for x in gene_list:\n",
    "    print(x)"
   ]
  },
  {
   "cell_type": "code",
   "execution_count": 28,
   "metadata": {},
   "outputs": [
    {
     "name": "stdout",
     "output_type": "stream",
     "text": [
      "['RB1', 'TP53', 'KRAS']\n"
     ]
    }
   ],
   "source": [
    "# test case: split by comma and strip space\n",
    "my_string = \"RB1, TP53, KRAS\"\n",
    "result = [x.strip() for x in my_string.split(',')]\n",
    "print(result)"
   ]
  },
  {
   "cell_type": "markdown",
   "metadata": {},
   "source": [
    "# Orpha ID"
   ]
  },
  {
   "cell_type": "code",
   "execution_count": 15,
   "metadata": {},
   "outputs": [],
   "source": [
    "# function of getting mesh id from Wikidata\n",
    "def getOrphaIDFromLabel(disease):\n",
    "    sparql = SPARQLWrapper(\"https://query.wikidata.org/bigdata/namespace/wdq/sparql\")\n",
    "    disease = disease.lower()\n",
    "    disease = \"\"\"'\"\"\" + disease + \"\"\"'\"\"\"\n",
    "    # first we need to get the label\n",
    "    query = \"\"\"PREFIX wikibase: <http://wikiba.se/ontology#>\n",
    "                PREFIX wd: <http://www.wikidata.org/entity/>\n",
    "                PREFIX wdt: <http://www.wikidata.org/prop/direct/> \n",
    "                PREFIX rdfs: <http://www.w3.org/2000/01/rdf-schema#>\n",
    "                SELECT ?s ?p ?o\n",
    "                WHERE { ?s rdfs:label\"\"\" + disease + \"\"\"@en}\"\"\"\n",
    "    sparql.setQuery(query)\n",
    "    sparql.setReturnFormat(JSON)\n",
    "    results = sparql.query().convert()\n",
    "    result = results[\"results\"][\"bindings\"]\n",
    "    if len(result) > 0:\n",
    "        # retrieve the result from Wikidata\n",
    "        label = result[0][\"s\"][\"value\"]\n",
    "        # make it as a subject URI\n",
    "        subject = \"\"\"<\"\"\" + label + \"\"\">\"\"\"\n",
    "        sparql = SPARQLWrapper(\"https://query.wikidata.org/bigdata/namespace/wdq/sparql\")\n",
    "        # then use the label as subject to retrieve\n",
    "        # wdt:P486 is the predicate for mesh id\n",
    "        query = \"\"\"PREFIX wikibase: <http://wikiba.se/ontology#>\n",
    "                PREFIX wd: <http://www.wikidata.org/entity/>\n",
    "                PREFIX wdt: <http://www.wikidata.org/prop/direct/> \n",
    "                PREFIX rdfs: <http://www.w3.org/2000/01/rdf-schema#>\n",
    "                SELECT ?o WHERE { \"\"\" + subject + \"\"\" wdt:P1550 ?o.}\"\"\"\n",
    "        sparql.setQuery(query)\n",
    "        sparql.setReturnFormat(JSON)\n",
    "        results = sparql.query().convert()\n",
    "        result = results[\"results\"][\"bindings\"]\n",
    "        if len(result) > 0:\n",
    "            # get mesh id\n",
    "            meshid = result[0][\"o\"][\"value\"]\n",
    "        else:\n",
    "            # 1 indicates no result because there is no predicate of \"meshid\"\n",
    "            meshid = \"1\"\n",
    "    else:\n",
    "        # 2 indicates no result because this term does not exist in Wikidata\n",
    "        # we can try aliases or dbpedia\n",
    "        meshid = \"2\"\n",
    "    return meshid"
   ]
  },
  {
   "cell_type": "code",
   "execution_count": 16,
   "metadata": {},
   "outputs": [],
   "source": [
    "disease_dict_orpha = {}\n",
    "# put the result into the dictionary\n",
    "for x in disease_list:\n",
    "    orphaid = getOrphaIDFromLabel(x)\n",
    "    disease_dict_orpha[x] = orphaid"
   ]
  },
  {
   "cell_type": "code",
   "execution_count": 17,
   "metadata": {
    "scrolled": true
   },
   "outputs": [
    {
     "name": "stdout",
     "output_type": "stream",
     "text": [
      "Disease: Liposarcoma; orpha ID: 69078\n",
      "no result because there is no predicate of 'orphaid' Disease: Colon cancer; orpha ID: 1\n",
      "Disease: Meningioma; orpha ID: 252025\n",
      "Disease: Breast cancer; orpha ID: 180257\n",
      "no result because there is no predicate of 'orphaid' Disease: Melanoma; orpha ID: 1\n",
      "no result because there is no predicate of 'orphaid' Disease: Lung cancer; orpha ID: 1\n",
      "Disease: Gastrointestinal stromal tumor; orpha ID: 44890\n",
      "no result because this term does not exist in Wikidata Disease: Lung adenocarcinoma; orpha ID: 2\n",
      "no result because this term does not exist in Wikidata Disease: Gastric cancer; orpha ID: 2\n",
      "no result because there is no predicate of 'orphaid' Disease: Cholangiocarcinoma; orpha ID: 1\n",
      "Disease: Cervical cancer; orpha ID: 213761\n",
      "Disease: Pancreatic cancer; orpha ID: 1333\n",
      "Disease: Prostate cancer; orpha ID: 1331\n",
      "no result because there is no predicate of 'orphaid' Disease: Colorectal cancer; orpha ID: 1\n",
      "no result because there is no predicate of 'orphaid' Disease: Pancreatic adenocarcinoma; orpha ID: 1\n",
      "no result because there is no predicate of 'orphaid' Disease: Pancreatic ductal adenocarcinoma; orpha ID: 1\n",
      "no result because this term does not exist in Wikidata Disease: Ampullary carcinoma; orpha ID: 2\n"
     ]
    }
   ],
   "source": [
    "for (k,v) in  disease_dict_orpha.items(): \n",
    "    if(v == '1'):\n",
    "        print(\"no result because there is no predicate of 'orphaid' Disease: {}; orpha ID: {}\".format(k,v))\n",
    "    elif (v == '2'):\n",
    "        print(\"no result because this term does not exist in Wikidata Disease: {}; orpha ID: {}\".format(k,v))\n",
    "    else:\n",
    "        print(\"Disease: {}; orpha ID: {}\".format(k,v))"
   ]
  },
  {
   "cell_type": "markdown",
   "metadata": {},
   "source": [
    "There are some terms which may use other names, and names in our data set are aliases"
   ]
  },
  {
   "cell_type": "code",
   "execution_count": 18,
   "metadata": {},
   "outputs": [],
   "source": [
    "def getOrphaIDFromAlias(disease):\n",
    "    sparql = SPARQLWrapper(\"https://query.wikidata.org/bigdata/namespace/wdq/sparql\")\n",
    "    disease = disease.lower()\n",
    "    disease = \"\"\"'\"\"\" + disease + \"\"\"'\"\"\"\n",
    "    query = \"\"\"PREFIX wikibase: <http://wikiba.se/ontology#>\n",
    "                PREFIX wd: <http://www.wikidata.org/entity/>\n",
    "                PREFIX wdt: <http://www.wikidata.org/prop/direct/> \n",
    "                PREFIX rdfs: <http://www.w3.org/2000/01/rdf-schema#>\n",
    "                PREFIX skos: <http://www.w3.org/2004/02/skos/core#>\n",
    "                select ?s\n",
    "                where{ ?s <http://www.w3.org/2004/02/skos/core#altLabel>\"\"\" + disease +\"\"\"@en .}\"\"\"\n",
    "    sparql.setQuery(query)\n",
    "    sparql.setReturnFormat(JSON)\n",
    "    results = sparql.query().convert()\n",
    "    result = results[\"results\"][\"bindings\"]\n",
    "    if len(result) > 0:\n",
    "        altLabel = result[0][\"s\"][\"value\"]\n",
    "        # make it as a subject URI\n",
    "        subject = \"\"\"<\"\"\" + altLabel + \"\"\">\"\"\"\n",
    "        sparql = SPARQLWrapper(\"https://query.wikidata.org/bigdata/namespace/wdq/sparql\")\n",
    "        # then use the label as subject to retrieve\n",
    "        # wdt:P486 is the predicate for mesh id\n",
    "        query = \"\"\"PREFIX wikibase: <http://wikiba.se/ontology#>\n",
    "                PREFIX wd: <http://www.wikidata.org/entity/>\n",
    "                PREFIX wdt: <http://www.wikidata.org/prop/direct/> \n",
    "                PREFIX rdfs: <http://www.w3.org/2000/01/rdf-schema#>\n",
    "                SELECT ?o WHERE { \"\"\" + subject + \"\"\" wdt:P1550 ?o.}\"\"\"\n",
    "        sparql.setQuery(query)\n",
    "        sparql.setReturnFormat(JSON)\n",
    "        results = sparql.query().convert()\n",
    "        result = results[\"results\"][\"bindings\"]\n",
    "        \n",
    "        if len(result) > 0:\n",
    "            # get mesh id\n",
    "            meshid = result[0][\"o\"][\"value\"]\n",
    "        else:\n",
    "            # 1 indicates no result because there is no predicate of \"meshid\"\n",
    "            meshid = \"1\"    \n",
    "    else:\n",
    "        # still cannot find this entity\n",
    "        meshid = \"2\"\n",
    "        \n",
    "    return meshid"
   ]
  },
  {
   "cell_type": "code",
   "execution_count": 19,
   "metadata": {},
   "outputs": [],
   "source": [
    "for (k,v) in  disease_dict_orpha.items(): \n",
    "    if(v == '2'):\n",
    "        orphaid = getOrphaIDFromAlias(k)\n",
    "        disease_dict_orpha[k] = orphaid"
   ]
  },
  {
   "cell_type": "code",
   "execution_count": 20,
   "metadata": {
    "scrolled": true
   },
   "outputs": [
    {
     "name": "stdout",
     "output_type": "stream",
     "text": [
      "Liposarcoma 69078\n",
      "Colon cancer 1\n",
      "Meningioma 252025\n",
      "Breast cancer 180257\n",
      "Melanoma 1\n",
      "Lung cancer 1\n",
      "Gastrointestinal stromal tumor 44890\n",
      "Lung adenocarcinoma 1\n",
      "Gastric cancer 1\n",
      "Cholangiocarcinoma 1\n",
      "Cervical cancer 213761\n",
      "Pancreatic cancer 1333\n",
      "Prostate cancer 1331\n",
      "Colorectal cancer 1\n",
      "Pancreatic adenocarcinoma 1\n",
      "Pancreatic ductal adenocarcinoma 1\n",
      "Ampullary carcinoma 300557\n"
     ]
    }
   ],
   "source": [
    "for (k,v) in disease_dict_orpha.items():\n",
    "    print(k,v)"
   ]
  },
  {
   "cell_type": "code",
   "execution_count": null,
   "metadata": {},
   "outputs": [],
   "source": []
  },
  {
   "cell_type": "code",
   "execution_count": null,
   "metadata": {},
   "outputs": [],
   "source": []
  },
  {
   "cell_type": "code",
   "execution_count": null,
   "metadata": {},
   "outputs": [],
   "source": []
  },
  {
   "cell_type": "code",
   "execution_count": null,
   "metadata": {},
   "outputs": [],
   "source": []
  },
  {
   "cell_type": "code",
   "execution_count": null,
   "metadata": {},
   "outputs": [],
   "source": []
  },
  {
   "cell_type": "code",
   "execution_count": null,
   "metadata": {},
   "outputs": [],
   "source": []
  },
  {
   "cell_type": "code",
   "execution_count": null,
   "metadata": {},
   "outputs": [],
   "source": []
  },
  {
   "cell_type": "code",
   "execution_count": null,
   "metadata": {},
   "outputs": [],
   "source": []
  },
  {
   "cell_type": "code",
   "execution_count": null,
   "metadata": {},
   "outputs": [],
   "source": []
  },
  {
   "cell_type": "markdown",
   "metadata": {},
   "source": [
    "# 1. MESH expansion"
   ]
  },
  {
   "cell_type": "markdown",
   "metadata": {},
   "source": [
    "1. Retrieve MeSH ID of the disease from wikidata\n",
    "2. use the MeSH ID in MeSH SPARQL by ?s meshv:identifier \"id\" . <br>\n",
    "    e.g. ?s meshv:identifier \"D008080\"\n",
    "3. specify other predicates"
   ]
  },
  {
   "cell_type": "code",
   "execution_count": 29,
   "metadata": {},
   "outputs": [],
   "source": [
    "# function of getting mesh id from Wikidata\n",
    "def getMeshIDFromLabel(disease):\n",
    "    sparql = SPARQLWrapper(\"https://query.wikidata.org/bigdata/namespace/wdq/sparql\")\n",
    "    disease = disease.lower()\n",
    "    disease = \"\"\"'\"\"\" + disease + \"\"\"'\"\"\"\n",
    "    # first we need to get the label\n",
    "    query = \"\"\"PREFIX wikibase: <http://wikiba.se/ontology#>\n",
    "                PREFIX wd: <http://www.wikidata.org/entity/>\n",
    "                PREFIX wdt: <http://www.wikidata.org/prop/direct/> \n",
    "                PREFIX rdfs: <http://www.w3.org/2000/01/rdf-schema#>\n",
    "                SELECT ?s ?p ?o\n",
    "                WHERE { ?s rdfs:label\"\"\" + disease + \"\"\"@en}\"\"\"\n",
    "    sparql.setQuery(query)\n",
    "    sparql.setReturnFormat(JSON)\n",
    "    results = sparql.query().convert()\n",
    "    result = results[\"results\"][\"bindings\"]\n",
    "    if len(result) > 0:\n",
    "        # retrieve the result from Wikidata\n",
    "        label = result[0][\"s\"][\"value\"]\n",
    "        # make it as a subject URI\n",
    "        subject = \"\"\"<\"\"\" + label + \"\"\">\"\"\"\n",
    "        sparql = SPARQLWrapper(\"https://query.wikidata.org/bigdata/namespace/wdq/sparql\")\n",
    "        # then use the label as subject to retrieve\n",
    "        # wdt:P486 is the predicate for mesh id\n",
    "        query = \"\"\"PREFIX wikibase: <http://wikiba.se/ontology#>\n",
    "                PREFIX wd: <http://www.wikidata.org/entity/>\n",
    "                PREFIX wdt: <http://www.wikidata.org/prop/direct/> \n",
    "                PREFIX rdfs: <http://www.w3.org/2000/01/rdf-schema#>\n",
    "                SELECT ?o WHERE { \"\"\" + subject + \"\"\" wdt:P486 ?o.}\"\"\"\n",
    "        sparql.setQuery(query)\n",
    "        sparql.setReturnFormat(JSON)\n",
    "        results = sparql.query().convert()\n",
    "        result = results[\"results\"][\"bindings\"]\n",
    "        if len(result) > 0:\n",
    "            # get mesh id\n",
    "            meshid = result[0][\"o\"][\"value\"]\n",
    "        else:\n",
    "            # 1 indicates no result because there is no predicate of \"meshid\"\n",
    "            meshid = \"1\"\n",
    "    else:\n",
    "        # 2 indicates no result because this term does not exist in Wikidata\n",
    "        # we can try aliases or dbpedia\n",
    "        meshid = \"2\"\n",
    "    return meshid"
   ]
  },
  {
   "cell_type": "code",
   "execution_count": 30,
   "metadata": {},
   "outputs": [],
   "source": [
    "disease_dict_mesh = {}\n",
    "# put the result into the dictionary\n",
    "for x in disease_list:\n",
    "    meshid = getMeshIDFromLabel(x)\n",
    "    disease_dict_mesh[x] = meshid"
   ]
  },
  {
   "cell_type": "code",
   "execution_count": 31,
   "metadata": {
    "scrolled": true
   },
   "outputs": [
    {
     "name": "stdout",
     "output_type": "stream",
     "text": [
      "Disease: Liposarcoma; MeSH ID: D008080\n",
      "Disease: Colon cancer; MeSH ID: D003110\n",
      "Disease: Meningioma; MeSH ID: D008579\n",
      "Disease: Breast cancer; MeSH ID: D001943\n",
      "Disease: Melanoma; MeSH ID: D008545\n",
      "Disease: Lung cancer; MeSH ID: D008175\n",
      "Disease: Gastrointestinal stromal tumor; MeSH ID: D046152\n",
      "no result because this term does not exist in Wikidata Disease: Lung adenocarcinoma; MeSH ID: 2\n",
      "no result because this term does not exist in Wikidata Disease: Gastric cancer; MeSH ID: 2\n",
      "Disease: Cholangiocarcinoma; MeSH ID: D018281\n",
      "Disease: Cervical cancer; MeSH ID: D002583\n",
      "Disease: Pancreatic cancer; MeSH ID: D010190\n",
      "Disease: Prostate cancer; MeSH ID: D011471\n",
      "Disease: Colorectal cancer; MeSH ID: D015179\n",
      "no result because there is no predicate of 'meshid' Disease: Pancreatic adenocarcinoma; MeSH ID: 1\n",
      "Disease: Pancreatic ductal adenocarcinoma; MeSH ID: D021441\n",
      "no result because this term does not exist in Wikidata Disease: Ampullary carcinoma; MeSH ID: 2\n"
     ]
    }
   ],
   "source": [
    "for (k,v) in  disease_dict_mesh.items(): \n",
    "    if(v == '1'):\n",
    "        print(\"no result because there is no predicate of 'meshid' Disease: {}; MeSH ID: {}\".format(k,v))\n",
    "    elif (v == '2'):\n",
    "        print(\"no result because this term does not exist in Wikidata Disease: {}; MeSH ID: {}\".format(k,v))\n",
    "    else:\n",
    "        print(\"Disease: {}; MeSH ID: {}\".format(k,v))"
   ]
  },
  {
   "cell_type": "markdown",
   "metadata": {},
   "source": [
    "There are some terms which may use other names, and names in our data set are aliases"
   ]
  },
  {
   "cell_type": "code",
   "execution_count": 32,
   "metadata": {},
   "outputs": [],
   "source": [
    "def getMeshIDFromAlias(disease):\n",
    "    sparql = SPARQLWrapper(\"https://query.wikidata.org/bigdata/namespace/wdq/sparql\")\n",
    "    disease = disease.lower()\n",
    "    disease = \"\"\"'\"\"\" + disease + \"\"\"'\"\"\"\n",
    "    query = \"\"\"PREFIX wikibase: <http://wikiba.se/ontology#>\n",
    "                PREFIX wd: <http://www.wikidata.org/entity/>\n",
    "                PREFIX wdt: <http://www.wikidata.org/prop/direct/> \n",
    "                PREFIX rdfs: <http://www.w3.org/2000/01/rdf-schema#>\n",
    "                PREFIX skos: <http://www.w3.org/2004/02/skos/core#>\n",
    "                select ?s\n",
    "                where{ ?s <http://www.w3.org/2004/02/skos/core#altLabel>\"\"\" + disease +\"\"\"@en .}\"\"\"\n",
    "    sparql.setQuery(query)\n",
    "    sparql.setReturnFormat(JSON)\n",
    "    results = sparql.query().convert()\n",
    "    result = results[\"results\"][\"bindings\"]\n",
    "    if len(result) > 0:\n",
    "        altLabel = result[0][\"s\"][\"value\"]\n",
    "        # make it as a subject URI\n",
    "        subject = \"\"\"<\"\"\" + altLabel + \"\"\">\"\"\"\n",
    "        sparql = SPARQLWrapper(\"https://query.wikidata.org/bigdata/namespace/wdq/sparql\")\n",
    "        # then use the label as subject to retrieve\n",
    "        # wdt:P486 is the predicate for mesh id\n",
    "        query = \"\"\"PREFIX wikibase: <http://wikiba.se/ontology#>\n",
    "                PREFIX wd: <http://www.wikidata.org/entity/>\n",
    "                PREFIX wdt: <http://www.wikidata.org/prop/direct/> \n",
    "                PREFIX rdfs: <http://www.w3.org/2000/01/rdf-schema#>\n",
    "                SELECT ?o WHERE { \"\"\" + subject + \"\"\" wdt:P486 ?o.}\"\"\"\n",
    "        sparql.setQuery(query)\n",
    "        sparql.setReturnFormat(JSON)\n",
    "        results = sparql.query().convert()\n",
    "        result = results[\"results\"][\"bindings\"]\n",
    "        \n",
    "        if len(result) > 0:\n",
    "            # get mesh id\n",
    "            meshid = result[0][\"o\"][\"value\"]\n",
    "        else:\n",
    "            # 1 indicates no result because there is no predicate of \"meshid\"\n",
    "            meshid = \"1\"    \n",
    "    else:\n",
    "        # still cannot find this entity\n",
    "        meshid = \"2\"\n",
    "        \n",
    "    return meshid"
   ]
  },
  {
   "cell_type": "code",
   "execution_count": 33,
   "metadata": {},
   "outputs": [],
   "source": [
    "for (k,v) in  disease_dict_mesh.items(): \n",
    "    if(v == '2'):\n",
    "        meshid = getMeshIDFromAlias(k)\n",
    "        disease_dict_mesh[k] = meshid"
   ]
  },
  {
   "cell_type": "code",
   "execution_count": 34,
   "metadata": {
    "scrolled": true
   },
   "outputs": [
    {
     "name": "stdout",
     "output_type": "stream",
     "text": [
      "Liposarcoma D008080\n",
      "Colon cancer D003110\n",
      "Meningioma D008579\n",
      "Breast cancer D001943\n",
      "Melanoma D008545\n",
      "Lung cancer D008175\n",
      "Gastrointestinal stromal tumor D046152\n",
      "Lung adenocarcinoma C538231\n",
      "Gastric cancer D013274\n",
      "Cholangiocarcinoma D018281\n",
      "Cervical cancer D002583\n",
      "Pancreatic cancer D010190\n",
      "Prostate cancer D011471\n",
      "Colorectal cancer D015179\n",
      "Pancreatic adenocarcinoma 1\n",
      "Pancreatic ductal adenocarcinoma D021441\n",
      "Ampullary carcinoma 1\n"
     ]
    }
   ],
   "source": [
    "for (k,v) in disease_dict_mesh.items():\n",
    "    print(k,v)"
   ]
  },
  {
   "cell_type": "markdown",
   "metadata": {},
   "source": [
    "# MESH - Query synonyms"
   ]
  },
  {
   "cell_type": "code",
   "execution_count": 35,
   "metadata": {},
   "outputs": [],
   "source": [
    "# there are some diseases without Mesh IDs, here we simply add mannually\n",
    "disease_dict_mesh['Pancreatic cancer'] = 'D010190'\n",
    "disease_dict_mesh['Pancreatic adenocarcinoma'] = 'D010190'\n",
    "# disease_dict_mesh['Ampullary carcinoma']"
   ]
  },
  {
   "cell_type": "code",
   "execution_count": 36,
   "metadata": {},
   "outputs": [],
   "source": [
    "# get preferred concept\n",
    "def getMeshPreferredConcept(id):\n",
    "    sparql = SPARQLWrapper(\"http://id.nlm.nih.gov/mesh/sparql\")\n",
    "    sparql.setQuery(\"\"\"\n",
    "        PREFIX rdf: <http://www.w3.org/1999/02/22-rdf-syntax-ns#>\n",
    "        PREFIX rdfs: <http://www.w3.org/2000/01/rdf-schema#>\n",
    "        PREFIX xsd: <http://www.w3.org/2001/XMLSchema#>\n",
    "        PREFIX owl: <http://www.w3.org/2002/07/owl#>\n",
    "        PREFIX meshv: <http://id.nlm.nih.gov/mesh/vocab#>\n",
    "        PREFIX mesh: <http://id.nlm.nih.gov/mesh/>\n",
    "        PREFIX mesh2015: <http://id.nlm.nih.gov/mesh/2015/>\n",
    "        PREFIX mesh2016: <http://id.nlm.nih.gov/mesh/2016/>\n",
    "        PREFIX mesh2017: <http://id.nlm.nih.gov/mesh/2017/>\n",
    "        PREFIX mesh2018: <http://id.nlm.nih.gov/mesh/2018/>\n",
    "        PREFIX mesh2019: <http://id.nlm.nih.gov/mesh/2019/>\n",
    "        SELECT DISTINCT ?s ?p ?o\n",
    "        FROM <http://id.nlm.nih.gov/mesh>\n",
    "        WHERE {mesh:\"\"\" + id + \"\"\" meshv:preferredConcept ?o.}\"\"\")\n",
    "    sparql.setReturnFormat(JSON)\n",
    "    results = sparql.query().convert()\n",
    "    result = results[\"results\"][\"bindings\"]\n",
    "    PreferredConcepts = \"\"\n",
    "    if len(result) > 0:\n",
    "        PreferredConcepts = result[0][\"o\"][\"value\"]\n",
    "    else:\n",
    "        PreferredConcepts = \"None\"\n",
    "    return PreferredConcepts"
   ]
  },
  {
   "cell_type": "code",
   "execution_count": 37,
   "metadata": {},
   "outputs": [],
   "source": [
    "# get concept\n",
    "def getMeshConcepts(id):\n",
    "    sparql = SPARQLWrapper(\"http://id.nlm.nih.gov/mesh/sparql\")\n",
    "    sparql.setQuery(\"\"\"\n",
    "        PREFIX rdf: <http://www.w3.org/1999/02/22-rdf-syntax-ns#>\n",
    "        PREFIX rdfs: <http://www.w3.org/2000/01/rdf-schema#>\n",
    "        PREFIX xsd: <http://www.w3.org/2001/XMLSchema#>\n",
    "        PREFIX owl: <http://www.w3.org/2002/07/owl#>\n",
    "        PREFIX meshv: <http://id.nlm.nih.gov/mesh/vocab#>\n",
    "        PREFIX mesh: <http://id.nlm.nih.gov/mesh/>\n",
    "        PREFIX mesh2015: <http://id.nlm.nih.gov/mesh/2015/>\n",
    "        PREFIX mesh2016: <http://id.nlm.nih.gov/mesh/2016/>\n",
    "        PREFIX mesh2017: <http://id.nlm.nih.gov/mesh/2017/>\n",
    "        PREFIX mesh2018: <http://id.nlm.nih.gov/mesh/2018/>\n",
    "        PREFIX mesh2019: <http://id.nlm.nih.gov/mesh/2019/>\n",
    "        SELECT DISTINCT ?s ?p ?o\n",
    "        FROM <http://id.nlm.nih.gov/mesh>\n",
    "        WHERE {mesh:\"\"\" + id + \"\"\" meshv:concept ?o.}\"\"\")\n",
    "    sparql.setReturnFormat(JSON)\n",
    "    results = sparql.query().convert()\n",
    "    result = results[\"results\"][\"bindings\"]\n",
    "    Concepts = \"\"\n",
    "    if len(result) > 0:\n",
    "        # choose up to 3\n",
    "        i = 0\n",
    "        for result in results[\"results\"][\"bindings\"]:\n",
    "            Concepts += result[\"o\"][\"value\"] + \" \"\n",
    "            i += 1\n",
    "            if i >= 3:\n",
    "                break\n",
    "    else:\n",
    "        Concepts = \"None\"\n",
    "    return Concepts"
   ]
  },
  {
   "cell_type": "code",
   "execution_count": 38,
   "metadata": {},
   "outputs": [],
   "source": [
    "# get preferred term and its alt label\n",
    "def getMeshPreferredTerm(id):\n",
    "    sparql = SPARQLWrapper(\"http://id.nlm.nih.gov/mesh/sparql\")\n",
    "    sparql.setQuery(\"\"\"\n",
    "        PREFIX rdf: <http://www.w3.org/1999/02/22-rdf-syntax-ns#>\n",
    "        PREFIX rdfs: <http://www.w3.org/2000/01/rdf-schema#>\n",
    "        PREFIX xsd: <http://www.w3.org/2001/XMLSchema#>\n",
    "        PREFIX owl: <http://www.w3.org/2002/07/owl#>\n",
    "        PREFIX meshv: <http://id.nlm.nih.gov/mesh/vocab#>\n",
    "        PREFIX mesh: <http://id.nlm.nih.gov/mesh/>\n",
    "        PREFIX mesh2015: <http://id.nlm.nih.gov/mesh/2015/>\n",
    "        PREFIX mesh2016: <http://id.nlm.nih.gov/mesh/2016/>\n",
    "        PREFIX mesh2017: <http://id.nlm.nih.gov/mesh/2017/>\n",
    "        PREFIX mesh2018: <http://id.nlm.nih.gov/mesh/2018/>\n",
    "        PREFIX mesh2019: <http://id.nlm.nih.gov/mesh/2019/>\n",
    "        SELECT DISTINCT ?s ?p ?o\n",
    "        FROM <http://id.nlm.nih.gov/mesh>\n",
    "        WHERE {mesh:\"\"\" + id + \"\"\" meshv:preferredTerm ?o.}\"\"\")\n",
    "    sparql.setReturnFormat(JSON)\n",
    "    results = sparql.query().convert()\n",
    "    result = results[\"results\"][\"bindings\"]\n",
    "    PreferredTerm = \"\"\n",
    "    altlabel = \"\"\n",
    "    if len(result) > 0:\n",
    "        for result in results[\"results\"][\"bindings\"]:\n",
    "            PreferredTerm += result[\"o\"][\"value\"]\n",
    "        # get its alt label\n",
    "        subject = \"\"\"<\"\"\" + PreferredTerm + \"\"\">\"\"\"\n",
    "        sparql = SPARQLWrapper(\"http://id.nlm.nih.gov/mesh/sparql\")\n",
    "        sparql.setQuery(\"\"\"\n",
    "        PREFIX rdf: <http://www.w3.org/1999/02/22-rdf-syntax-ns#>\n",
    "        PREFIX rdfs: <http://www.w3.org/2000/01/rdf-schema#>\n",
    "        PREFIX xsd: <http://www.w3.org/2001/XMLSchema#>\n",
    "        PREFIX owl: <http://www.w3.org/2002/07/owl#>\n",
    "        PREFIX meshv: <http://id.nlm.nih.gov/mesh/vocab#>\n",
    "        PREFIX mesh: <http://id.nlm.nih.gov/mesh/>\n",
    "        PREFIX mesh2015: <http://id.nlm.nih.gov/mesh/2015/>\n",
    "        PREFIX mesh2016: <http://id.nlm.nih.gov/mesh/2016/>\n",
    "        PREFIX mesh2017: <http://id.nlm.nih.gov/mesh/2017/>\n",
    "        PREFIX mesh2018: <http://id.nlm.nih.gov/mesh/2018/>\n",
    "        PREFIX mesh2019: <http://id.nlm.nih.gov/mesh/2019/>\n",
    "        SELECT DISTINCT ?s ?p ?o\n",
    "        FROM <http://id.nlm.nih.gov/mesh>\n",
    "        WHERE {\"\"\" + subject + \"\"\" <http://id.nlm.nih.gov/mesh/vocab#altLabel> ?o.}\"\"\")  \n",
    "        sparql.setReturnFormat(JSON)\n",
    "        results = sparql.query().convert()\n",
    "        result = results[\"results\"][\"bindings\"]\n",
    "        if len(result) > 0:\n",
    "            # get alt label\n",
    "            altlabel = result[0][\"o\"][\"value\"]\n",
    "        else:\n",
    "            # 1 indicates no result because there is no predicate of \"meshid\"\n",
    "            altlabel = \"None\"         \n",
    "    else:\n",
    "        altlabel = \"None\"\n",
    "    return altlabel"
   ]
  },
  {
   "cell_type": "code",
   "execution_count": 39,
   "metadata": {},
   "outputs": [],
   "source": [
    "# change the position of terms in some diseases\n",
    "# e.g. \"Neoplasms, Adipose Tissue\" to \"Adipose Tissue Neoplasms\"\n",
    "def normalizeTerms(label):\n",
    "    newterm = label.split(\",\")[1].strip() + \" \" + label.split(\",\")[0].strip()\n",
    "    return newterm"
   ]
  },
  {
   "cell_type": "code",
   "execution_count": 68,
   "metadata": {},
   "outputs": [],
   "source": [
    "# get all the synonyms\n",
    "# preferred concepts and concepts need to be converted to text terms\n",
    "# preferred terms has been converted to text terms\n",
    "# get All synonyms\n",
    "def getAllMeshSynonyms(disease_meshid):\n",
    "    PreferredConcept = getMeshPreferredConcept(disease_meshid)\n",
    "    PreferredConcept = PreferredConcept.strip()\n",
    "    MeshConcepts = getMeshConcepts(disease_meshid)\n",
    "    MeshConcepts = MeshConcepts.strip()\n",
    "    synonyms = PreferredConcept + \" \" + MeshConcepts\n",
    "    \n",
    "    synonyms_list = [x.strip() for x in synonyms.split(\" \")]\n",
    "    synonyms = \" \"\n",
    "    \n",
    "    for x in synonyms_list:\n",
    "        label = getDiseaseName(x)\n",
    "        if label != \"None\":\n",
    "            if label.find(\",\") != -1:\n",
    "                label = normalizeTerms(label)\n",
    "            synonyms = synonyms + \" \" + label\n",
    "    \n",
    "    synonyms = synonyms.strip()\n",
    "    altlabel = getMeshPreferredTerm(disease_meshid)\n",
    "    if altlabel != \"None\":\n",
    "        synonyms = synonyms + \" \" + altlabel\n",
    "    return synonyms"
   ]
  },
  {
   "cell_type": "code",
   "execution_count": 69,
   "metadata": {
    "scrolled": true
   },
   "outputs": [
    {
     "name": "stdout",
     "output_type": "stream",
     "text": [
      "Liposarcoma's synonyms are:\n",
      "Liposarcoma Dedifferentiated Liposarcoma Pleomorphic Liposarcoma Well Differentiated Liposarcoma Liposarcomas\n",
      "Colon cancer's synonyms are:\n",
      "Colonic Neoplasms Cancer of Colon Colonic Neoplasm\n",
      "Meningioma's synonyms are:\n",
      "Meningioma Multiple Meningiomas Benign Meningioma Malignant Meningioma Meningiomas\n",
      "Breast cancer's synonyms are:\n",
      "Breast Neoplasms Breast Cancer Human Mammary Neoplasms Breast Carcinoma Breast Neoplasm\n",
      "Melanoma's synonyms are:\n",
      "Melanoma Melanomas\n",
      "Lung cancer's synonyms are:\n",
      "Lung Neoplasms Lung Cancer\n",
      "Gastrointestinal stromal tumor's synonyms are:\n",
      "Gastrointestinal Stromal Tumors Gastrointestinal Stromal Sarcoma Stromal Tumor, Gastrointestinal\n",
      "Lung adenocarcinoma's synonyms are:\n",
      "Adenocarcinoma of Lung\n",
      "Gastric cancer's synonyms are:\n",
      "Stomach Neoplasms Cancer of Stomach Familial Diffuse Gastric Cancer Neoplasm, Stomach\n",
      "Cholangiocarcinoma's synonyms are:\n",
      "Cholangiocarcinoma Extrahepatic Cholangiocarcinoma Intrahepatic Cholangiocarcinoma Cholangiocarcinomas\n",
      "Cervical cancer's synonyms are:\n",
      "Uterine Cervical Neoplasms Cancer of the Uterine Cervix Cervical Neoplasm, Uterine\n",
      "Pancreatic cancer's synonyms are:\n",
      "Pancreatic Neoplasms Cancer of Pancreas Neoplasm, Pancreatic\n",
      "Prostate cancer's synonyms are:\n",
      "Prostatic Neoplasms Prostate Cancer\n",
      "Colorectal cancer's synonyms are:\n",
      "Colorectal Neoplasms Colorectal Cancer Colorectal Carcinoma\n",
      "Pancreatic adenocarcinoma's synonyms are:\n",
      "Pancreatic Neoplasms Cancer of Pancreas Neoplasm, Pancreatic\n",
      "Pancreatic ductal adenocarcinoma's synonyms are:\n",
      "Pancreatic Ductal Carcinoma Carcinomas, Pancreatic Ductal\n",
      "Ampullary carcinoma's synonyms are:\n",
      "\n"
     ]
    }
   ],
   "source": [
    "for (k,v) in disease_dict_mesh.items():\n",
    "    print(\"{}'s synonyms are:\".format(k))\n",
    "    print(getAllMeshSynonyms(v))"
   ]
  },
  {
   "cell_type": "code",
   "execution_count": 44,
   "metadata": {},
   "outputs": [],
   "source": [
    "# write into xml\n",
    "tree = ET.parse('/Users/arthur_0804/Desktop/Thesis/RelevantDocs/topics2017.xml')\n",
    "root = tree.getroot()\n",
    "\n",
    "for i in range(len(root)):\n",
    "    original_disease = root[i][0].text\n",
    "    synonyms_terms = getAllMeshSynonyms(disease_dict_mesh[original_disease])\n",
    "    root[i][0].text = synonyms_terms\n",
    "tree.write(\"/Users/arthur_0804/Desktop/mesh_synonyms.xml\")"
   ]
  },
  {
   "cell_type": "code",
   "execution_count": null,
   "metadata": {},
   "outputs": [],
   "source": []
  },
  {
   "cell_type": "code",
   "execution_count": null,
   "metadata": {},
   "outputs": [],
   "source": []
  },
  {
   "cell_type": "code",
   "execution_count": null,
   "metadata": {},
   "outputs": [],
   "source": []
  },
  {
   "cell_type": "code",
   "execution_count": null,
   "metadata": {},
   "outputs": [],
   "source": []
  },
  {
   "cell_type": "code",
   "execution_count": null,
   "metadata": {},
   "outputs": [],
   "source": []
  },
  {
   "cell_type": "code",
   "execution_count": null,
   "metadata": {},
   "outputs": [],
   "source": []
  },
  {
   "cell_type": "code",
   "execution_count": null,
   "metadata": {},
   "outputs": [],
   "source": []
  },
  {
   "cell_type": "code",
   "execution_count": null,
   "metadata": {},
   "outputs": [],
   "source": []
  },
  {
   "cell_type": "code",
   "execution_count": null,
   "metadata": {},
   "outputs": [],
   "source": []
  },
  {
   "cell_type": "code",
   "execution_count": null,
   "metadata": {},
   "outputs": [],
   "source": []
  },
  {
   "cell_type": "code",
   "execution_count": null,
   "metadata": {},
   "outputs": [],
   "source": []
  },
  {
   "cell_type": "code",
   "execution_count": null,
   "metadata": {},
   "outputs": [],
   "source": []
  },
  {
   "cell_type": "code",
   "execution_count": null,
   "metadata": {},
   "outputs": [],
   "source": []
  },
  {
   "cell_type": "code",
   "execution_count": null,
   "metadata": {},
   "outputs": [],
   "source": []
  },
  {
   "cell_type": "code",
   "execution_count": null,
   "metadata": {},
   "outputs": [],
   "source": []
  },
  {
   "cell_type": "code",
   "execution_count": null,
   "metadata": {},
   "outputs": [],
   "source": []
  },
  {
   "cell_type": "code",
   "execution_count": null,
   "metadata": {},
   "outputs": [],
   "source": []
  },
  {
   "cell_type": "code",
   "execution_count": null,
   "metadata": {},
   "outputs": [],
   "source": []
  },
  {
   "cell_type": "code",
   "execution_count": null,
   "metadata": {},
   "outputs": [],
   "source": []
  },
  {
   "cell_type": "code",
   "execution_count": null,
   "metadata": {},
   "outputs": [],
   "source": []
  },
  {
   "cell_type": "markdown",
   "metadata": {},
   "source": [
    "# MESH - Query parents and children"
   ]
  },
  {
   "cell_type": "code",
   "execution_count": 27,
   "metadata": {},
   "outputs": [],
   "source": [
    "# query parents\n",
    "def getMeshParent(id):\n",
    "    sparql = SPARQLWrapper(\"http://id.nlm.nih.gov/mesh/sparql\")\n",
    "    sparql.setQuery(\"\"\"\n",
    "        PREFIX rdf: <http://www.w3.org/1999/02/22-rdf-syntax-ns#>\n",
    "        PREFIX rdfs: <http://www.w3.org/2000/01/rdf-schema#>\n",
    "        PREFIX xsd: <http://www.w3.org/2001/XMLSchema#>\n",
    "        PREFIX owl: <http://www.w3.org/2002/07/owl#>\n",
    "        PREFIX meshv: <http://id.nlm.nih.gov/mesh/vocab#>\n",
    "        PREFIX mesh: <http://id.nlm.nih.gov/mesh/>\n",
    "        PREFIX mesh2015: <http://id.nlm.nih.gov/mesh/2015/>\n",
    "        PREFIX mesh2016: <http://id.nlm.nih.gov/mesh/2016/>\n",
    "        PREFIX mesh2017: <http://id.nlm.nih.gov/mesh/2017/>\n",
    "        PREFIX mesh2018: <http://id.nlm.nih.gov/mesh/2018/>\n",
    "        PREFIX mesh2019: <http://id.nlm.nih.gov/mesh/2019/>\n",
    "        SELECT DISTINCT ?s ?p ?o\n",
    "        FROM <http://id.nlm.nih.gov/mesh>\n",
    "        WHERE {mesh:\"\"\" + id + \"\"\" meshv:broaderDescriptor ?o.}\"\"\")\n",
    "    sparql.setReturnFormat(JSON)\n",
    "    results = sparql.query().convert()\n",
    "    result = results[\"results\"][\"bindings\"]\n",
    "    parent_disease = \"\"\n",
    "    if len(result) > 0:\n",
    "        for result in results[\"results\"][\"bindings\"]:\n",
    "             parent_disease += result[\"o\"][\"value\"] + \" \"\n",
    "    else:\n",
    "        parent_disease = \"None\"\n",
    "    return parent_disease"
   ]
  },
  {
   "cell_type": "code",
   "execution_count": 28,
   "metadata": {},
   "outputs": [],
   "source": [
    "# query child\n",
    "def getMeshChild(id):\n",
    "    sparql = SPARQLWrapper(\"http://id.nlm.nih.gov/mesh/sparql\")\n",
    "    sparql.setQuery(\"\"\"\n",
    "        PREFIX rdf: <http://www.w3.org/1999/02/22-rdf-syntax-ns#>\n",
    "        PREFIX rdfs: <http://www.w3.org/2000/01/rdf-schema#>\n",
    "        PREFIX xsd: <http://www.w3.org/2001/XMLSchema#>\n",
    "        PREFIX owl: <http://www.w3.org/2002/07/owl#>\n",
    "        PREFIX meshv: <http://id.nlm.nih.gov/mesh/vocab#>\n",
    "        PREFIX mesh: <http://id.nlm.nih.gov/mesh/>\n",
    "        PREFIX mesh2015: <http://id.nlm.nih.gov/mesh/2015/>\n",
    "        PREFIX mesh2016: <http://id.nlm.nih.gov/mesh/2016/>\n",
    "        PREFIX mesh2017: <http://id.nlm.nih.gov/mesh/2017/>\n",
    "        PREFIX mesh2018: <http://id.nlm.nih.gov/mesh/2018/>\n",
    "        PREFIX mesh2019: <http://id.nlm.nih.gov/mesh/2019/>\n",
    "        SELECT DISTINCT ?s ?p ?o\n",
    "        FROM <http://id.nlm.nih.gov/mesh>\n",
    "        WHERE {\n",
    "          ?s meshv:broaderDescriptor mesh:\"\"\" + id +  \"\"\".}\"\"\")\n",
    "    sparql.setReturnFormat(JSON)\n",
    "    results = sparql.query().convert()\n",
    "    result = results[\"results\"][\"bindings\"]\n",
    "    child_disease = \"\"\n",
    "    if len(result) > 0:\n",
    "        for result in results[\"results\"][\"bindings\"]:\n",
    "             child_disease += result[\"s\"][\"value\"] + \" \"\n",
    "    else:\n",
    "        child_disease = \"None\"\n",
    "    return child_disease"
   ]
  },
  {
   "cell_type": "code",
   "execution_count": 43,
   "metadata": {},
   "outputs": [],
   "source": [
    "# get label by mesh ID\n",
    "def getDiseaseName(id):\n",
    "    if id != \"None\":\n",
    "        subject = \"\"\"<\"\"\" + id + \"\"\">\"\"\"\n",
    "        sparql = SPARQLWrapper(\"http://id.nlm.nih.gov/mesh/sparql\")\n",
    "        sparql.setQuery(\"\"\"\n",
    "            PREFIX rdf: <http://www.w3.org/1999/02/22-rdf-syntax-ns#>\n",
    "            PREFIX rdfs: <http://www.w3.org/2000/01/rdf-schema#>\n",
    "            PREFIX xsd: <http://www.w3.org/2001/XMLSchema#>\n",
    "            PREFIX owl: <http://www.w3.org/2002/07/owl#>\n",
    "            PREFIX meshv: <http://id.nlm.nih.gov/mesh/vocab#>\n",
    "            PREFIX mesh: <http://id.nlm.nih.gov/mesh/>\n",
    "            PREFIX mesh2015: <http://id.nlm.nih.gov/mesh/2015/>\n",
    "            PREFIX mesh2016: <http://id.nlm.nih.gov/mesh/2016/>\n",
    "            PREFIX mesh2017: <http://id.nlm.nih.gov/mesh/2017/>\n",
    "            PREFIX mesh2018: <http://id.nlm.nih.gov/mesh/2018/>\n",
    "            PREFIX mesh2019: <http://id.nlm.nih.gov/mesh/2019/>\n",
    "            SELECT DISTINCT ?s ?p ?o\n",
    "            FROM <http://id.nlm.nih.gov/mesh>\n",
    "            WHERE {\"\"\" + subject + \"\"\" <http://www.w3.org/2000/01/rdf-schema#label>  ?o.}\"\"\")\n",
    "        sparql.setReturnFormat(JSON)\n",
    "        results = sparql.query().convert()\n",
    "        result = results[\"results\"][\"bindings\"]\n",
    "        if len(result) > 0:\n",
    "            return result[0][\"o\"][\"value\"]\n",
    "        else:\n",
    "            return \"None\"\n",
    "    else:\n",
    "        return \"None\""
   ]
  },
  {
   "cell_type": "code",
   "execution_count": 30,
   "metadata": {},
   "outputs": [],
   "source": [
    "# change the position of terms in some diseases\n",
    "# e.g. \"Neoplasms, Adipose Tissue\" to \"Adipose Tissue Neoplasms\"\n",
    "def normalizeTerms(label):\n",
    "    newterm = label.split(\",\")[1].strip() + \" \" + label.split(\",\")[0].strip()\n",
    "    return newterm"
   ]
  },
  {
   "cell_type": "markdown",
   "metadata": {},
   "source": [
    "Iterate through the dictionary, find parent/child mesh ID for each disease, and then return the label"
   ]
  },
  {
   "cell_type": "code",
   "execution_count": 31,
   "metadata": {},
   "outputs": [],
   "source": [
    "def getAllMeshExpansionTerms(disease_meshid):\n",
    "    parent_disease = getMeshParent(disease_meshid)\n",
    "    parent_disease = parent_disease.strip()\n",
    "    child_disease = getMeshChild(disease_meshid)\n",
    "    child_disease = child_disease.strip()\n",
    "    expansion_terms = parent_disease + \" \" + child_disease\n",
    "    expansion_terms_list = [x.strip() for x in expansion_terms.split(' ')]\n",
    "    \n",
    "    expansion_terms = \" \"\n",
    "    \n",
    "    for x in expansion_terms_list:\n",
    "        label = getDiseaseName(x)\n",
    "        if label != \"None\":\n",
    "            if label.find(\",\") != -1:\n",
    "                label = normalizeTerms(label)\n",
    "            expansion_terms = expansion_terms + \" \" + label\n",
    "    \n",
    "    expansion_terms = expansion_terms.strip()\n",
    "    return expansion_terms"
   ]
  },
  {
   "cell_type": "code",
   "execution_count": 27,
   "metadata": {
    "scrolled": true
   },
   "outputs": [],
   "source": [
    "# write into xml\n",
    "tree = ET.parse('/Users/arthur_0804/Desktop/Thesis/RelevantDocs/topics2017.xml')\n",
    "root = tree.getroot()\n",
    "\n",
    "for i in range(len(root)):\n",
    "    original_disease = root[i][0].text\n",
    "    expansion_terms = getAllMeshExpansionTerms(disease_dict_mesh[original_disease])\n",
    "    if expansion_terms != \"\":\n",
    "        root[i][0].text = expansion_terms\n",
    "    else:\n",
    "        root[i][0].text = original_disease\n",
    "tree.write(\"mesh_expanded.xml\")"
   ]
  },
  {
   "cell_type": "markdown",
   "metadata": {},
   "source": [
    "# 2. Disease Ontology expansion"
   ]
  },
  {
   "cell_type": "code",
   "execution_count": 28,
   "metadata": {},
   "outputs": [],
   "source": [
    "# function of getting mesh id from Wikidata\n",
    "def getDOIDFromLabel(disease):\n",
    "    sparql = SPARQLWrapper(\"https://query.wikidata.org/bigdata/namespace/wdq/sparql\")\n",
    "    disease = disease.lower()\n",
    "    disease = \"\"\"'\"\"\" + disease + \"\"\"'\"\"\"\n",
    "    # first we need to get the label\n",
    "    query = \"\"\"PREFIX wikibase: <http://wikiba.se/ontology#>\n",
    "                PREFIX wd: <http://www.wikidata.org/entity/>\n",
    "                PREFIX wdt: <http://www.wikidata.org/prop/direct/> \n",
    "                PREFIX rdfs: <http://www.w3.org/2000/01/rdf-schema#>\n",
    "                SELECT ?s ?p ?o\n",
    "                WHERE { ?s rdfs:label\"\"\" + disease + \"\"\"@en}\"\"\"\n",
    "    sparql.setQuery(query)\n",
    "    sparql.setReturnFormat(JSON)\n",
    "    results = sparql.query().convert()\n",
    "    result = results[\"results\"][\"bindings\"]\n",
    "    if len(result) > 0:\n",
    "        # retrieve the result from Wikidata\n",
    "        label = result[0][\"s\"][\"value\"]\n",
    "        # make it as a subject URI\n",
    "        subject = \"\"\"<\"\"\" + label + \"\"\">\"\"\"\n",
    "        sparql = SPARQLWrapper(\"https://query.wikidata.org/bigdata/namespace/wdq/sparql\")\n",
    "        # then use the label as subject to retrieve\n",
    "        # wdt:P699 is the predicate for do id\n",
    "        query = \"\"\"PREFIX wikibase: <http://wikiba.se/ontology#>\n",
    "                PREFIX wd: <http://www.wikidata.org/entity/>\n",
    "                PREFIX wdt: <http://www.wikidata.org/prop/direct/> \n",
    "                PREFIX rdfs: <http://www.w3.org/2000/01/rdf-schema#>\n",
    "                SELECT ?o WHERE { \"\"\" + subject + \"\"\" wdt:P699 ?o.}\"\"\"\n",
    "        sparql.setQuery(query)\n",
    "        sparql.setReturnFormat(JSON)\n",
    "        results = sparql.query().convert()\n",
    "        result = results[\"results\"][\"bindings\"]\n",
    "        if len(result) > 0:\n",
    "            # get do id\n",
    "            doid = result[0][\"o\"][\"value\"]\n",
    "        else:\n",
    "            # 1 indicates no result because there is no predicate of \"doid\"\n",
    "            doid = \"1\"\n",
    "    else:\n",
    "        # 2 indicates no result because this term does not exist in Wikidata\n",
    "        doid = \"2\"\n",
    "        \n",
    "    return doid"
   ]
  },
  {
   "cell_type": "code",
   "execution_count": 29,
   "metadata": {},
   "outputs": [],
   "source": [
    "disease_dict_do = {}\n",
    "# put the result into the dictionary\n",
    "for x in disease_list:\n",
    "    doid = getDOIDFromLabel(x)\n",
    "    disease_dict_do[x] = doid"
   ]
  },
  {
   "cell_type": "code",
   "execution_count": 30,
   "metadata": {},
   "outputs": [],
   "source": [
    "def getDOIDFromAlias(disease):\n",
    "    sparql = SPARQLWrapper(\"https://query.wikidata.org/bigdata/namespace/wdq/sparql\")\n",
    "    disease = disease.lower()\n",
    "    disease = \"\"\"'\"\"\" + disease + \"\"\"'\"\"\"\n",
    "    query = \"\"\"PREFIX wikibase: <http://wikiba.se/ontology#>\n",
    "                PREFIX wd: <http://www.wikidata.org/entity/>\n",
    "                PREFIX wdt: <http://www.wikidata.org/prop/direct/> \n",
    "                PREFIX rdfs: <http://www.w3.org/2000/01/rdf-schema#>\n",
    "                PREFIX skos: <http://www.w3.org/2004/02/skos/core#>\n",
    "                select ?s\n",
    "                where{ ?s <http://www.w3.org/2004/02/skos/core#altLabel>\"\"\" + disease +\"\"\"@en .}\"\"\"\n",
    "    sparql.setQuery(query)\n",
    "    sparql.setReturnFormat(JSON)\n",
    "    results = sparql.query().convert()\n",
    "    result = results[\"results\"][\"bindings\"]\n",
    "    if len(result) > 0:\n",
    "        altLabel = result[0][\"s\"][\"value\"]\n",
    "        # make it as a subject URI\n",
    "        subject = \"\"\"<\"\"\" + altLabel + \"\"\">\"\"\"\n",
    "        sparql = SPARQLWrapper(\"https://query.wikidata.org/bigdata/namespace/wdq/sparql\")\n",
    "        # then use the label as subject to retrieve\n",
    "        # wdt:P486 is the predicate for mesh id\n",
    "        query = \"\"\"PREFIX wikibase: <http://wikiba.se/ontology#>\n",
    "                PREFIX wd: <http://www.wikidata.org/entity/>\n",
    "                PREFIX wdt: <http://www.wikidata.org/prop/direct/> \n",
    "                PREFIX rdfs: <http://www.w3.org/2000/01/rdf-schema#>\n",
    "                SELECT ?o WHERE { \"\"\" + subject + \"\"\" wdt:P699 ?o.}\"\"\"\n",
    "        sparql.setQuery(query)\n",
    "        sparql.setReturnFormat(JSON)\n",
    "        results = sparql.query().convert()\n",
    "        result = results[\"results\"][\"bindings\"]\n",
    "        if len(result) > 0:\n",
    "            # get do id\n",
    "            doid = result[0][\"o\"][\"value\"]\n",
    "        else:\n",
    "            # 1 indicates no result because there is no predicate of \"doid\"\n",
    "            doid = \"1\"\n",
    "    else:\n",
    "        # 2 indicates no result because this term does not exist in Wikidata\n",
    "        doid = \"2\"   \n",
    "    return doid"
   ]
  },
  {
   "cell_type": "code",
   "execution_count": 31,
   "metadata": {},
   "outputs": [],
   "source": [
    "for (k,v) in  disease_dict_do.items(): \n",
    "    if(v == '2'):\n",
    "        doid = getDOIDFromAlias(k)\n",
    "        disease_dict_do[k] = doid"
   ]
  },
  {
   "cell_type": "code",
   "execution_count": 32,
   "metadata": {
    "scrolled": false
   },
   "outputs": [
    {
     "name": "stdout",
     "output_type": "stream",
     "text": [
      "Liposarcoma DOID:3382\n",
      "Colon cancer DOID:219\n",
      "Meningioma DOID:3565\n",
      "Breast cancer DOID:1612\n",
      "Melanoma DOID:1909\n",
      "Lung cancer DOID:1324\n",
      "Gastrointestinal stromal tumor DOID:9253\n",
      "Lung adenocarcinoma DOID:3910\n",
      "Gastric cancer DOID:10534\n",
      "Cholangiocarcinoma DOID:4947\n",
      "Cervical cancer DOID:4362\n",
      "Pancreatic cancer 2\n",
      "Prostate cancer DOID:10283\n",
      "Colorectal cancer DOID:9256\n",
      "Pancreatic adenocarcinoma DOID:4074\n",
      "Pancreatic ductal adenocarcinoma 1\n",
      "Ampullary carcinoma DOID:4932\n"
     ]
    }
   ],
   "source": [
    "for (k,v) in disease_dict_do.items():\n",
    "    print(k,v)"
   ]
  },
  {
   "cell_type": "markdown",
   "metadata": {},
   "source": [
    "# DO - Query parents and children"
   ]
  },
  {
   "cell_type": "code",
   "execution_count": 72,
   "metadata": {},
   "outputs": [],
   "source": [
    "import requests"
   ]
  },
  {
   "cell_type": "code",
   "execution_count": 73,
   "metadata": {},
   "outputs": [],
   "source": [
    "def getDOParent(doid):\n",
    "    doparents = \"\"\n",
    "    url = 'http://www.disease-ontology.org/api/metadata/' + doid\n",
    "    r = requests.get(url)\n",
    "    result = r.json()\n",
    "    if 'parents' in result:\n",
    "        parents = result[\"parents\"]\n",
    "        for x in parents:\n",
    "            doparents += x[1] + \",\"\n",
    "    return doparents"
   ]
  },
  {
   "cell_type": "code",
   "execution_count": 74,
   "metadata": {},
   "outputs": [],
   "source": [
    "def getDOChild(doid):\n",
    "    dochild = \"\"\n",
    "    url = 'http://www.disease-ontology.org/api/metadata/' + doid\n",
    "    r = requests.get(url)\n",
    "    result = r.json()\n",
    "    if 'children' in result:\n",
    "        children = result[\"children\"]\n",
    "        for x in children:\n",
    "            dochild += x[0] + \",\"\n",
    "    return dochild"
   ]
  },
  {
   "cell_type": "code",
   "execution_count": 80,
   "metadata": {},
   "outputs": [],
   "source": [
    "def getAllDOExpansionTerms(doid):\n",
    "    parents = getDOParent(doid)\n",
    "    children = getDOChild(doid)\n",
    "    expansion_terms = parents + children\n",
    "    expansion_terms = expansion_terms[:-1]\n",
    "    expansion_terms_list = [x.strip() for x in expansion_terms.split(',')]\n",
    "    expansion_terms = \" \"\n",
    "    for x in expansion_terms_list:\n",
    "        expansion_terms = expansion_terms + \" \" + x\n",
    "    expansion_terms = expansion_terms.strip()\n",
    "    return expansion_terms"
   ]
  },
  {
   "cell_type": "code",
   "execution_count": 82,
   "metadata": {},
   "outputs": [],
   "source": [
    "# write into xml\n",
    "tree = ET.parse('/Users/arthur_0804/Desktop/Thesis/RelevantDocs/topics2017.xml')\n",
    "root = tree.getroot()\n",
    "\n",
    "for i in range(len(root)):\n",
    "    original_disease = root[i][0].text\n",
    "    doid = disease_dict_do[original_disease]\n",
    "    if doid != \"1\" and doid != \"2\":\n",
    "        expansion_terms = getAllDOExpansionTerms(doid)\n",
    "        root[i][0].text = expansion_terms\n",
    "    else:\n",
    "        root[i][0].text = original_disease\n",
    "tree.write(\"do_expanded.xml\")"
   ]
  },
  {
   "cell_type": "code",
   "execution_count": null,
   "metadata": {},
   "outputs": [],
   "source": []
  },
  {
   "cell_type": "code",
   "execution_count": null,
   "metadata": {},
   "outputs": [],
   "source": []
  },
  {
   "cell_type": "code",
   "execution_count": null,
   "metadata": {},
   "outputs": [],
   "source": []
  },
  {
   "cell_type": "markdown",
   "metadata": {},
   "source": [
    "# Wikidata synonyms"
   ]
  },
  {
   "cell_type": "code",
   "execution_count": null,
   "metadata": {},
   "outputs": [],
   "source": [
    "def getWikiSynonyms(disease):\n",
    "    "
   ]
  },
  {
   "cell_type": "code",
   "execution_count": 81,
   "metadata": {},
   "outputs": [
    {
     "name": "stdout",
     "output_type": "stream",
     "text": [
      "PREFIX wikibase: <http://wikiba.se/ontology#>\n",
      "        PREFIX wd: <http://www.wikidata.org/entity/>\n",
      "        PREFIX wdt: <http://www.wikidata.org/prop/direct/> \n",
      "        PREFIX rdfs: <http://www.w3.org/2000/01/rdf-schema#>\n",
      "        SELECT ?s ?p ?o\n",
      "        WHERE { ?s rdfs:label'liposarcoma'@en}\n"
     ]
    }
   ],
   "source": [
    "disease = 'liposarcoma'\n",
    "sparql = SPARQLWrapper(\"https://query.wikidata.org/bigdata/namespace/wdq/sparql\")\n",
    "disease = disease.lower()\n",
    "disease = \"\"\"'\"\"\" + disease + \"\"\"'\"\"\"\n",
    "# first we need to get the label\n",
    "query = \"\"\"PREFIX wikibase: <http://wikiba.se/ontology#>\n",
    "        PREFIX wd: <http://www.wikidata.org/entity/>\n",
    "        PREFIX wdt: <http://www.wikidata.org/prop/direct/> \n",
    "        PREFIX rdfs: <http://www.w3.org/2000/01/rdf-schema#>\n",
    "        SELECT ?s ?p ?o\n",
    "        WHERE { ?s rdfs:label\"\"\" + disease + \"\"\"@en}\"\"\"\n",
    "print(query)\n",
    "sparql.setQuery(query)\n",
    "sparql.setReturnFormat(JSON)\n",
    "results = sparql.query().convert()\n",
    "result = results[\"results\"][\"bindings\"]\n",
    "subject = result[0]['s']['value']"
   ]
  },
  {
   "cell_type": "code",
   "execution_count": 83,
   "metadata": {},
   "outputs": [
    {
     "name": "stdout",
     "output_type": "stream",
     "text": [
      "http://www.wikidata.org/entity/Q1827425\n"
     ]
    }
   ],
   "source": [
    "print(subject)"
   ]
  },
  {
   "cell_type": "code",
   "execution_count": null,
   "metadata": {},
   "outputs": [],
   "source": []
  },
  {
   "cell_type": "code",
   "execution_count": null,
   "metadata": {},
   "outputs": [],
   "source": []
  }
 ],
 "metadata": {
  "kernelspec": {
   "display_name": "Python 3",
   "language": "python",
   "name": "python3"
  },
  "language_info": {
   "codemirror_mode": {
    "name": "ipython",
    "version": 3
   },
   "file_extension": ".py",
   "mimetype": "text/x-python",
   "name": "python",
   "nbconvert_exporter": "python",
   "pygments_lexer": "ipython3",
   "version": "3.7.0"
  }
 },
 "nbformat": 4,
 "nbformat_minor": 2
}
